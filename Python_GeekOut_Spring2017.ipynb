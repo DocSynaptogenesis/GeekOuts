{
 "cells": [
  {
   "cell_type": "code",
   "execution_count": 1,
   "metadata": {
    "collapsed": true
   },
   "outputs": [],
   "source": [
    "# Python_GeekOut_Spring2017\n",
    "# DocSynaptogenesis\n",
    "# Python 3.6.0\n",
    "# Anaconda 4.3.0 (64-bit)\n",
    "# Jupyter Notebook 4.3.1\n",
    "# Description: Python class to provide introductory knowledge to graduate students"
   ]
  },
  {
   "cell_type": "markdown",
   "metadata": {},
   "source": [
    "Thanks for attending the META Lab's Python Geek Out!\n",
    "\n",
    "We're going to try and cover as much ground as possible in our limited time, but not to the detriment of learning what the code is doing or what its potential applications are.\n",
    "\n",
    "Do not feel overwhelmed or that you are expected to immediately grasp everything that we cover. Today is a VERY cursory overview of Python.\n",
    "\n",
    "Today's intent is not to immediately transform you into a functional programmer. That is not a remotely realistic goal.\n",
    "\n",
    "Instead, the goal is to provide you with a basic grasp of how Python works and some resources and support to puruse further learning.\n",
    "\n",
    "If you have questions on anything, now or in the future, please feel free to ask.\n",
    "\n",
    "Thanks again for coming!"
   ]
  },
  {
   "cell_type": "markdown",
   "metadata": {},
   "source": [
    "Let's get started with our first exercise: \"Hello, World!\"\n",
    "\n",
    "A \"Hello, World!\" program is a computer program that displays \"Hello, World!\" to the user.\n",
    "\n",
    "\"Hello, World!\" is a tradition as it is a simple way to introduce novice programmers to a programming language and illustrates the basic syntax of the language.\n",
    "\n",
    "It is also used as a test to demonstrate that the programming language is installed properly.\n",
    "\n",
    "\"Hello, World!\" is fantastically simple in Python."
   ]
  },
  {
   "cell_type": "code",
   "execution_count": 2,
   "metadata": {
    "collapsed": false
   },
   "outputs": [
    {
     "name": "stdout",
     "output_type": "stream",
     "text": [
      "Hello, World!\n"
     ]
    }
   ],
   "source": [
    "# exercise 1: \"Hello, World!\"\n",
    "print(\"Hello, World!\")"
   ]
  },
  {
   "cell_type": "markdown",
   "metadata": {},
   "source": [
    "Congratulations. You just wrote your first program in Python!\n",
    "\n",
    "Wait, what's that \"# exercise 1\" doing?\n",
    "\n",
    "In Python (and many other languages) you can add a comment to your code by prefacing the comment with \"#\".\n",
    "\n",
    "Python recognizes the \"#\" and does not attempt to execute what follows it. Instead it simply moves on to the next line of code that doesn't begin with a \"#\".\n",
    "\n",
    "Our second exercise will introduce some variable types in Python. We're going to focus on the basic explanation/usage of:\n",
    "    -integers, which are whole numbers\n",
    "    -floating points, which are numbers that include a decimal point\n",
    "    -strings, which can be thought of as a line of text\n",
    "    -booleans, which is either True or False"
   ]
  },
  {
   "cell_type": "code",
   "execution_count": 3,
   "metadata": {
    "collapsed": true
   },
   "outputs": [],
   "source": [
    "# exercise 2: variables\n",
    "integer_example = 3\n",
    "float_example = 3.14\n",
    "string_example = \"Hey, I'm a string!\"\n",
    "boolean_example = True"
   ]
  },
  {
   "cell_type": "markdown",
   "metadata": {},
   "source": [
    "Now, practice the print() function again on the variables you just assigned."
   ]
  },
  {
   "cell_type": "code",
   "execution_count": 4,
   "metadata": {
    "collapsed": false
   },
   "outputs": [
    {
     "name": "stdout",
     "output_type": "stream",
     "text": [
      "3\n",
      "3.14\n",
      "Hey, I'm a string!\n",
      "True\n"
     ]
    }
   ],
   "source": [
    "print(integer_example)\n",
    "print(float_example)\n",
    "print(string_example)\n",
    "print(boolean_example)"
   ]
  },
  {
   "cell_type": "markdown",
   "metadata": {},
   "source": [
    "Arithmetic procedures in programming aren't simply used for mathematical operations, but you can use Python as a hardcore calculator. They are used in all kinds of ways to make a program run the way that you want.\n",
    "\n",
    "Let's look at some arithmetic operators:\n",
    "\"+\" adds objects together\n",
    "\"-\" subtracts the second object from the first object\n",
    "\"*\" multiplies objects\n",
    "\"/\" divides objects\n",
    "\"**\" raises an object to an exponent\n",
    "\"%\" (called \"modulo\") returns the remainder of a division operation "
   ]
  },
  {
   "cell_type": "code",
   "execution_count": 5,
   "metadata": {
    "collapsed": false
   },
   "outputs": [
    {
     "name": "stdout",
     "output_type": "stream",
     "text": [
      "15\n",
      "5\n",
      "50\n",
      "2.0\n",
      "100000\n",
      "0\n"
     ]
    }
   ],
   "source": [
    "# exercise 3: arithmetic\n",
    "\n",
    "# create some initial variables to use in our operations\n",
    "a = 10\n",
    "b = 5\n",
    "# create some more variables to hold the results of our operations\n",
    "add = a + b\n",
    "subtract = a - b\n",
    "multiply = a * b\n",
    "divide = a / b\n",
    "exponent = a ** b\n",
    "modulo = a % b\n",
    "# review our results\n",
    "print(add)\n",
    "print(subtract)\n",
    "print(multiply)\n",
    "print(divide)\n",
    "print(exponent)\n",
    "print(modulo)"
   ]
  },
  {
   "cell_type": "markdown",
   "metadata": {},
   "source": [
    "Wouldn't it be nice for our output to tell us what the printed values are referencing? Our mathematical operators are a way to do this.\n",
    "\n",
    "We're going to look at how variables of different types can be used together for more meaningful output.\n",
    "\n",
    "In order to do this, we need to turn our numbers into strings. "
   ]
  },
  {
   "cell_type": "code",
   "execution_count": 6,
   "metadata": {
    "collapsed": false
   },
   "outputs": [
    {
     "name": "stdout",
     "output_type": "stream",
     "text": [
      "<class 'int'>\n"
     ]
    }
   ],
   "source": [
    "# exercise 4: converting variable types\n",
    "\n",
    "# if you're not sure, you can check the type of a variable like so. Here, we are storing that\n",
    "# result in another variable\n",
    "addition_result = type(add)\n",
    "# then print this variable\n",
    "print(addition_result)"
   ]
  },
  {
   "cell_type": "code",
   "execution_count": 7,
   "metadata": {
    "collapsed": false
   },
   "outputs": [
    {
     "name": "stdout",
     "output_type": "stream",
     "text": [
      "<class 'str'>\n",
      "<class 'str'>\n",
      "<class 'str'>\n",
      "<class 'str'>\n",
      "<class 'str'>\n",
      "<class 'str'>\n"
     ]
    }
   ],
   "source": [
    "# now, let's change our results into strings so we can better use them in printing outputs\n",
    "# notice here that we're overwriting the original variables\n",
    "add = str(add)\n",
    "subtract = str(subtract)\n",
    "multiply = str(multiply)\n",
    "divide = str(divide)\n",
    "exponent = str(exponent)\n",
    "modulo = str(modulo)\n",
    "# now let's print out the types of these variables to make sure we've got it right\n",
    "# you can combine multiple functions inside one another like so:\n",
    "print(type(add))\n",
    "print(type(subtract))\n",
    "print(type(multiply))\n",
    "print(type(divide))\n",
    "print(type(exponent))\n",
    "print(type(modulo))"
   ]
  },
  {
   "cell_type": "markdown",
   "metadata": {},
   "source": [
    "Now that we have converted our numeric variables to strings, let's see how we can accomplish our original goal: customize our outputs to be more meaningful by combining items in print() statements."
   ]
  },
  {
   "cell_type": "code",
   "execution_count": 8,
   "metadata": {
    "collapsed": false
   },
   "outputs": [
    {
     "name": "stdout",
     "output_type": "stream",
     "text": [
      "Addition: 15\n",
      "Subtraction: 5\n",
      "Multiplication: 50\n",
      "Division: 2.0\n",
      "Exponent: 100000\n",
      "Remainder: 0\n"
     ]
    }
   ],
   "source": [
    "# exercise 5: better outputs\n",
    "\n",
    "# strings must be in quotes for Python to recognize them as strings\n",
    "# \"+\" allows us to add strings together too. This is called \"concatenation\".\n",
    "# Python assumes nothing, so if you want a space, make sure you add a space\n",
    "print(\"Addition: \" + add)\n",
    "print(\"Subtraction: \" + subtract)\n",
    "print(\"Multiplication: \" + multiply)\n",
    "print(\"Division: \" + divide)\n",
    "print(\"Exponent: \" + exponent)\n",
    "print(\"Remainder: \" + modulo)"
   ]
  },
  {
   "cell_type": "markdown",
   "metadata": {},
   "source": [
    "Let's return to our \"Hello, World!\" program. Now we know how to add strings together in print() outputs, so let's try that here."
   ]
  },
  {
   "cell_type": "code",
   "execution_count": 9,
   "metadata": {
    "collapsed": false
   },
   "outputs": [
    {
     "name": "stdout",
     "output_type": "stream",
     "text": [
      "Hello, World!\n"
     ]
    }
   ],
   "source": [
    "print(\"Hello, \" + \"World!\")"
   ]
  },
  {
   "cell_type": "markdown",
   "metadata": {},
   "source": [
    "Now, let's assign our string elements to variables and try it again."
   ]
  },
  {
   "cell_type": "code",
   "execution_count": 10,
   "metadata": {
    "collapsed": false
   },
   "outputs": [
    {
     "name": "stdout",
     "output_type": "stream",
     "text": [
      "HelloWorld\n"
     ]
    }
   ],
   "source": [
    "hello = \"Hello\"\n",
    "world = \"World\"\n",
    "print(hello + world)"
   ]
  },
  {
   "cell_type": "markdown",
   "metadata": {},
   "source": [
    "That didn't work perfectly. As we know, Python doesn't assume anything, including spaces or punctuation. Let's try again with that in mind."
   ]
  },
  {
   "cell_type": "code",
   "execution_count": 11,
   "metadata": {
    "collapsed": false
   },
   "outputs": [
    {
     "name": "stdout",
     "output_type": "stream",
     "text": [
      "Hello, World!\n"
     ]
    }
   ],
   "source": [
    "print(hello + \", \" + world + \"!\")"
   ]
  },
  {
   "cell_type": "markdown",
   "metadata": {},
   "source": [
    "Perfect. What if we want to be able to repeat code like our \"Hello, World!\" program but knew that we would be using different variables? This is where functions become invaluable.\n",
    "\n",
    "We have already seen a few functions, but they are included in Python like print(), type(), and str()...\n",
    "\n",
    "... but we can create our own so that we can accomplish custom, repetitive tasks. A virtue of good programming is not unnecessarily repeating your code, and this is a way to accomplish that."
   ]
  },
  {
   "cell_type": "code",
   "execution_count": 12,
   "metadata": {
    "collapsed": true
   },
   "outputs": [],
   "source": [
    "# exercise 6: functions\n",
    "\n",
    "# you define functions using the keyword \"def\"\n",
    "#  function_name  parameter1   parameter2   end with colon\n",
    "def hello_world(first_word, second_word):\n",
    "    print(first_word + \", \" + second_word +\"!\")"
   ]
  },
  {
   "cell_type": "markdown",
   "metadata": {},
   "source": [
    "When creating a function, your first line after should auto-tab for you. This also occurs in  other circumstances as we will see. Python uses \"white-space\" to structure code. This differs from many other programming languages, which use brackets for structuring. The intention is to make Python code inherently more readable. \n",
    "\n",
    "Comments, proper formatting, and  descriptive variable names are some of the ways to make your code more understandable to others. It also let's you return to code that you haven't touched in a while and grasp what you were trying to accomplish. This is actually a bigger pain than you might expect!\n",
    "\n",
    "You call a function by its name and pass it arguments in parentheses. The arguments take the place of the parameters that you set up when you declared the function. Parameters are the objects that the function is expecting and are referenced by the paramter name within the function. \n",
    "\n",
    "In short:\n",
    "-parameters appear in function definitions\n",
    "-arguments appear in function calls\n",
    "\n",
    "Confused? Don't worry, it makes more sense when you see it in action.\n",
    "\n",
    "Now we have declared our first function. Let's call it."
   ]
  },
  {
   "cell_type": "code",
   "execution_count": 13,
   "metadata": {
    "collapsed": false
   },
   "outputs": [
    {
     "name": "stdout",
     "output_type": "stream",
     "text": [
      "Hello, World!\n"
     ]
    }
   ],
   "source": [
    "# our arguments are the \"hello\" and \"world\" variables that we already created\n",
    "# the arguments are fed into the parameters of the function, which we call like so:\n",
    "hello_world(hello, world)"
   ]
  },
  {
   "cell_type": "markdown",
   "metadata": {},
   "source": [
    "Functions are incredibly useful as they simplify your code and prevent you from needing to repeat yourself. Let's put together a arithmetic function so we can experiment and introduce some more concepts. Our function is going to print the remainder of a division operation."
   ]
  },
  {
   "cell_type": "code",
   "execution_count": 14,
   "metadata": {
    "collapsed": false
   },
   "outputs": [
    {
     "name": "stdout",
     "output_type": "stream",
     "text": [
      "0\n"
     ]
    }
   ],
   "source": [
    "# exercise 7: arithmetic function\n",
    "\n",
    "# let's define our function, remeber that \"%\" returns the remainder of a division operation\n",
    "def remainder(first_num, second_num):\n",
    "    print(first_num % second_num)\n",
    "\n",
    "# let's declare some variables to pass as arguments to our function\n",
    "six = 6\n",
    "three = 3\n",
    "\n",
    "''' What the heck are these quotes?? Triple quotes allow you to write multi-line comments\n",
    "So...\n",
    "-call the function with our new variables\n",
    "-we expect our output to be 0, since 6 divided by 3 does not result in a remainder\n",
    "-Notice that our variable names (six, three) that we pass to the function as arguments\n",
    "have different names than the parameters of the function (first_num, second_num). \n",
    "    -Python knows which argument is used for which parameter based on the order of your \n",
    "    function call.\n",
    "    -Below, we see that six comes first, and thus corresponds with first_num. three comes\n",
    "    second and thus corresponds with second_num\n",
    "'''\n",
    "remainder(six, three)"
   ]
  },
  {
   "cell_type": "markdown",
   "metadata": {},
   "source": [
    "It looks like our function works, but let's test it with arguments that should provide a different remainder when they are divided."
   ]
  },
  {
   "cell_type": "code",
   "execution_count": 15,
   "metadata": {
    "collapsed": false
   },
   "outputs": [
    {
     "name": "stdout",
     "output_type": "stream",
     "text": [
      "3\n",
      "2\n",
      "1\n"
     ]
    }
   ],
   "source": [
    "# we don't need to declare more variables as we can pass the numbers directly to the function\n",
    "# let's try it a few times with different arguments to test it\n",
    "remainder(10, 7)\n",
    "remainder(5, 3)\n",
    "remainder(8, 7)"
   ]
  },
  {
   "cell_type": "markdown",
   "metadata": {},
   "source": [
    "Our function is good to go. Now let's explore how we can make our code more complex, and thus more useful. This provides us an opportunity to learn about if-statements.\n",
    "\n",
    "if-statements are used to add logic to your code. You are enabling your program to make decisions based on instructions that you have provided.\n",
    "\n",
    "In order to do this, we use comparison operators. Comparison operators evaluate two operands and decide whether or not the comparison is True or False:\n",
    "\n",
    "'==' evalutes to True if the two operands are EQUAL\n",
    "    (1 == 1) is True, but (1 == 2) is False\n",
    "    \n",
    "'!=' evaluates to True if the two operands are NOT EQUAL\n",
    "    (1 != 1) is False, but (1 != 2) is True\n",
    "    \n",
    "'>' evaluates to True if the first operand is larger than the second\n",
    "    2 > 1 is True, but 1 > 2 is False\n",
    "    \n",
    "'<' evaluates to True if the first operand is smaller than the second\n",
    "    (1 < 2) is True, but (2 < 1) is False\n",
    "    \n",
    "'>=' and '<=' are inclusive, in that the first operand can be greater/lesser than OR equal to the second operand and evaluate to True\n",
    "\n",
    "Comparison operators can be combined by using \"and\" and \"or\" statements. Let's take a look at the syntax in action and practice a few if-statements.\n"
   ]
  },
  {
   "cell_type": "code",
   "execution_count": 16,
   "metadata": {
    "collapsed": false
   },
   "outputs": [
    {
     "name": "stdout",
     "output_type": "stream",
     "text": [
      "This evaluates to True: one is equal to one\n",
      "This evaluates to True: one is not equal to two and two is equal to two\n",
      "This evaluates to True: one is not equal to two, BUT two is equal to two\n"
     ]
    }
   ],
   "source": [
    "# exercise 8: comparison operators\n",
    "if 1 == 1:\n",
    "    print(\"This evaluates to True: one is equal to one\")\n",
    "    \n",
    "if 1 != 2 and 2 == 2:\n",
    "    print(\"This evaluates to True: one is not equal to two and two is equal to two\")\n",
    "    \n",
    "if 1 == 2 or 2 == 2:\n",
    "    print(\"This evaluates to True: one is not equal to two, BUT two is equal to two\")\n",
    "    "
   ]
  },
  {
   "cell_type": "markdown",
   "metadata": {},
   "source": [
    "What about when the comparison evaluates to False? We can provide code that instructs the program on what to do in this situation by adding an else-statement. Let's see it in action."
   ]
  },
  {
   "cell_type": "code",
   "execution_count": 17,
   "metadata": {
    "collapsed": false
   },
   "outputs": [
    {
     "name": "stdout",
     "output_type": "stream",
     "text": [
      "This evaluates to False: one is not equal to two\n"
     ]
    }
   ],
   "source": [
    "if 1 == 2:\n",
    "    print(\"This will not exectute, because that's not True\")\n",
    "else:\n",
    "    print(\"This evaluates to False: one is not equal to two\")"
   ]
  },
  {
   "cell_type": "markdown",
   "metadata": {},
   "source": [
    "What about situations where we want to check multiple conditions? We use an elif-statement. elif is simply an abbreviation of 'else if'. Let's step it up a tad and see a simple, realistic scenario where this would be useful.\n",
    "\n",
    "Assume that you needed a program that could tell you what your letter-grade in a class is based on your average.\n",
    "Let's assume that:\n",
    "\n",
    "    A is 90 and higher,\n",
    "    \n",
    "    B is between 80 and 89,\n",
    "    \n",
    "    C is between 70 and 79,\n",
    "    \n",
    "    D is between 60 and 69,\n",
    "    \n",
    "    F is below 60\n",
    "    \n",
    "\n",
    "We can accomplish this task by using if, elif, and else statements."
   ]
  },
  {
   "cell_type": "code",
   "execution_count": 18,
   "metadata": {
    "collapsed": false
   },
   "outputs": [
    {
     "name": "stdout",
     "output_type": "stream",
     "text": [
      "You got a C\n"
     ]
    }
   ],
   "source": [
    "# exercise 9: simple letter grade, build a function that outputs your letter grade\n",
    "#           from an average\n",
    "\n",
    "def simple_letter_grade(average):\n",
    "    if average >= 90:\n",
    "        print(\"You got an A\")\n",
    "    elif average >= 80:\n",
    "        print(\"You got a B\")\n",
    "    elif average >= 70:\n",
    "        print(\"You got a C\")\n",
    "    elif average >= 60:\n",
    "        print(\"You got a D\")\n",
    "    else:\n",
    "        print(\"You got an F\")\n",
    "\n",
    "simple_letter_grade(75)"
   ]
  },
  {
   "cell_type": "markdown",
   "metadata": {},
   "source": [
    "Our function works, but it's not very useful as is. We need the program to be able to take a user's input so that anyone can figure out their letter grade. To do this, let's take a look at how Python can accept a user's input and assign it to a variable."
   ]
  },
  {
   "cell_type": "code",
   "execution_count": 19,
   "metadata": {
    "collapsed": false
   },
   "outputs": [
    {
     "name": "stdout",
     "output_type": "stream",
     "text": [
      "How old are you in years? 29\n",
      "You are 29 years old.\n"
     ]
    }
   ],
   "source": [
    "# let's create a variable and assign a user's input to that variable\n",
    "# the input() function prints your question string and allows the user to input their response\n",
    "user_input = input(\"How old are you in years? \")\n",
    "\n",
    "# now let's print out the age with a string\n",
    "print(\"You are \" + user_input + \" years old.\")"
   ]
  },
  {
   "cell_type": "markdown",
   "metadata": {},
   "source": [
    "Now we know how to take a user's input and use it in our code. Our program is now interactive!\n",
    "\n",
    "Wait a second... If the user inputted a number, why were we able to print it without converting it a string like we had to before with our arithmetic variables?\n",
    "\n",
    "Since this is a new way of assigning a value to a variable, we should probably figure out what type of variable it is so we know how to use it in the future. Again, we do this by using the type() function, which returns a variable's type. Let's combine it with a print() statement so that we can check out what kind of variable user_input is."
   ]
  },
  {
   "cell_type": "code",
   "execution_count": 20,
   "metadata": {
    "collapsed": false
   },
   "outputs": [
    {
     "name": "stdout",
     "output_type": "stream",
     "text": [
      "<class 'str'>\n"
     ]
    }
   ],
   "source": [
    "# the ability to embed functions with other functions is very handy, like so:\n",
    "print(type(user_input))"
   ]
  },
  {
   "cell_type": "markdown",
   "metadata": {},
   "source": [
    "We see that our variable is a string, which is good to know to be able to properly use it for  other things. It's important to know what types of objects you are using because you can only do certain things to certain types. As your skills progress, this becomes more important.\n",
    "\n",
    "Let's return to our letter grade program. We will make a new function in order to implement what we just learned.\n",
    "\n",
    "This is the last step we're going to take, which combines most of what we covered today.\n",
    "\n",
    "-defining a function\n",
    "\n",
    "-if,elif, and else statements\n",
    "\n",
    "-comparison operators\n",
    "-converting strings to integers\n",
    "\n",
    "-converting integers to strings\n",
    "\n",
    "-variable assignment\n",
    "-taking a user's input\n",
    "\n",
    "-calling a function\n",
    "\n",
    "-printing an output\n"
   ]
  },
  {
   "cell_type": "code",
   "execution_count": 21,
   "metadata": {
    "collapsed": false
   },
   "outputs": [
    {
     "name": "stdout",
     "output_type": "stream",
     "text": [
      "What is your average? 73\n",
      "Your average is: 73\n",
      "You got a C.\n"
     ]
    }
   ],
   "source": [
    "# define our new function\n",
    "def interactive_letter_grade(average):\n",
    "    # let's add a line that prints out what the user input\n",
    "    # remember that numbers need to be converted to strings to be used like this\n",
    "        # since we are going to convert the user's input to an integer below\n",
    "    print(\"Your average is: \" + str(average))\n",
    "    if average >= 90:\n",
    "        print(\"You got an A.\")\n",
    "    elif average >= 80:\n",
    "        print(\"You got a B.\")\n",
    "    elif average >= 70:\n",
    "        print(\"You got a C.\")\n",
    "    elif average >= 60:\n",
    "        print(\"You got a D.\")\n",
    "    else:\n",
    "        print(\"You got an F.\")\n",
    "\n",
    "# get the user's average, but let's make sure we also convert it into a string\n",
    "my_average = int(input(\"What is your average? \"))\n",
    "\n",
    "# pass the user's average to our function and check out the results\n",
    "interactive_letter_grade(my_average)"
   ]
  },
  {
   "cell_type": "markdown",
   "metadata": {},
   "source": [
    "Phew! We made it! \n",
    "\n",
    "If you feel overwhelmed, that's because we covered a TON of territory. Again, you're not expected to remember or even grasp everything we covered today, but we hope that you feel motivated to learn more!\n",
    "\n",
    "Thanks again for coming, and feel free to ask questions at any time!"
   ]
  }
 ],
 "metadata": {
  "kernelspec": {
   "display_name": "Python 3",
   "language": "python",
   "name": "python3"
  },
  "language_info": {
   "codemirror_mode": {
    "name": "ipython",
    "version": 3
   },
   "file_extension": ".py",
   "mimetype": "text/x-python",
   "name": "python",
   "nbconvert_exporter": "python",
   "pygments_lexer": "ipython3",
   "version": "3.6.0"
  }
 },
 "nbformat": 4,
 "nbformat_minor": 2
}
